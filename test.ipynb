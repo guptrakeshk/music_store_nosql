{
 "cells": [
  {
   "cell_type": "markdown",
   "metadata": {
    "editable": true
   },
   "source": [
    "#### Import Python packages "
   ]
  },
  {
   "cell_type": "code",
   "execution_count": 22,
   "metadata": {
    "editable": true
   },
   "outputs": [],
   "source": [
    "# Import Python packages \n",
    "import cassandra\n",
    "import re"
   ]
  },
  {
   "cell_type": "markdown",
   "metadata": {
    "editable": true
   },
   "source": [
    "\n",
    "## Processing of a CSV file \n",
    "\n",
    "After processing a single CSV file titled <font color=red>event_datafile_new.csv</font>, is generated within the Workspace directory.\n",
    "The event_datafile_new.csv contains the following columns: \n",
    "\n",
    "- artist \n",
    "- firstName of user\n",
    "- gender of user\n",
    "- item number in session\n",
    "- last name of user\n",
    "- length of the song\n",
    "- level (paid or free song)\n",
    "- location of the user\n",
    "- sessionId\n",
    "- song title\n",
    "- userId\n",
    "\n",
    "The image below is a screenshot of what the denormalized data should appear like in the <font color=red>**event_datafile_new.csv**</font> after the code above is run:<br>\n",
    "\n",
    "<img src=\"images/image_event_datafile_new.jpg\">"
   ]
  },
  {
   "cell_type": "markdown",
   "metadata": {
    "editable": true
   },
   "source": [
    "## Create Apache Cassandra infrastructure"
   ]
  },
  {
   "cell_type": "markdown",
   "metadata": {
    "editable": true
   },
   "source": [
    "#### Creating a Cluster"
   ]
  },
  {
   "cell_type": "code",
   "execution_count": 23,
   "metadata": {
    "editable": true
   },
   "outputs": [],
   "source": [
    "# This should make a connection to a Cassandra instance your local machine \n",
    "# (127.0.0.1)\n",
    "\n",
    "from cassandra.cluster import Cluster\n",
    "cluster = Cluster()\n",
    "\n",
    "# To establish connection and begin executing queries, need a session\n",
    "session = cluster.connect()"
   ]
  },
  {
   "cell_type": "markdown",
   "metadata": {
    "editable": true
   },
   "source": [
    "#### Create Keyspace"
   ]
  },
  {
   "cell_type": "code",
   "execution_count": 24,
   "metadata": {
    "editable": true
   },
   "outputs": [],
   "source": [
    "# Create a Keyspace \n",
    "try :\n",
    "    session.execute(\"\"\" CREATE KEYSPACE IF NOT EXISTS udacity\n",
    "                    WITH REPLICATION = {\n",
    "                    'class': 'SimpleStrategy', 'replication_factor': 1 } \"\"\")\n",
    "except Exception as e:\n",
    "    print(\"Error: Issue in creating KeySapce \")\n",
    "    print(e)"
   ]
  },
  {
   "cell_type": "markdown",
   "metadata": {
    "editable": true
   },
   "source": [
    "#### Set Keyspace"
   ]
  },
  {
   "cell_type": "code",
   "execution_count": 25,
   "metadata": {
    "editable": true
   },
   "outputs": [],
   "source": [
    "# Set KEYSPACE to the keyspace specified above\n",
    "try:\n",
    "    session.set_keyspace('udacity')\n",
    "except Exception as e:\n",
    "    print(\"Error: Issue in setting Keyspace\")\n",
    "    print(e)\n"
   ]
  },
  {
   "cell_type": "markdown",
   "metadata": {
    "editable": true
   },
   "source": [
    "### REMEMBER: With Apache Cassandra you model the database tables on the queries you want to run.\n",
    "\n",
    "Each time you run SELECT queries, remember to execute scripts in the sequence.  `create_tables.py` and `etl.py`files so that event log data is extracted, processed and loaded into the database tables.\n"
   ]
  },
  {
   "cell_type": "markdown",
   "metadata": {
    "editable": true
   },
   "source": [
    "### Create queries to ask the following three questions of the processed data \n",
    "\n",
    "1. Give me the artist, song title and song's length in the music app history that was heard during  sessionId = 338, and itemInSession  = 4\n",
    "\n",
    "\n",
    "2. Give me only the following: name of artist, song (sorted by itemInSession) and user (first and last name) for userid = 10, sessionid = 182\n",
    "    \n",
    "\n",
    "3. Give me every user name (first and last) in my music app history who listened to the song 'All Hands Against His Own'\n"
   ]
  },
  {
   "cell_type": "markdown",
   "metadata": {
    "editable": true
   },
   "source": [
    "\n",
    "### Run SELECT to verify that the data have been inserted into each table"
   ]
  },
  {
   "cell_type": "markdown",
   "metadata": {
    "editable": true
   },
   "source": [
    "For table music_library, the session_id was used as a partition key because the queries will be filter by this column. \n",
    "item_in_session was used as clustering column to help make up a unique key.\n",
    "That is the reason session_id and item_in_session were selected as a primary key\n",
    "i.e PRIMARY KEY(session_id, item_in_session)"
   ]
  },
  {
   "cell_type": "code",
   "execution_count": 26,
   "metadata": {
    "editable": true,
    "scrolled": true
   },
   "outputs": [
    {
     "name": "stdout",
     "output_type": "stream",
     "text": [
      "Faithless Music Matters (Mark Knight Dub) 495.30731201171875\n"
     ]
    }
   ],
   "source": [
    "## Query 1: Give me the artist, song title and song's length in the music app history that was heard \n",
    "## during sessionId = 338, and itemInSession = 4¶\n",
    "## Select statement to validate the data was entered into table correctly\n",
    "\n",
    "query = \"SELECT artist_name, song_title, duration FROM music_library \\\n",
    "         WHERE session_id = 338 AND item_in_session = 4\"\n",
    "\n",
    "try :\n",
    "    rows = session.execute(query)\n",
    "    \n",
    "except Exception as e :\n",
    "    print(e)\n",
    "    \n",
    "for row in rows :\n",
    "    print (row.artist_name, row.song_title, row.duration)"
   ]
  },
  {
   "cell_type": "markdown",
   "metadata": {
    "editable": true
   },
   "source": [
    "For table user_music_library, the user_id and session_id were used as a partition key because the queries will be \n",
    "filter by these columns. \n",
    "item_in_session was used as clustering column to help make up a unique key.\n",
    "That is the reason user_id, session_id and item_in_session were selected as a primary key\n",
    "i.e PRIMARY KEY((user_id, session_id), item_in_session)\n",
    "\n",
    "Since query also needed song to be sorted descending by item_in_session, **WITH CLUSTERING ORDER BY** was added.\n",
    "i.e.WITH CLUSTERING ORDER BY (item_in_session DESC)"
   ]
  },
  {
   "cell_type": "code",
   "execution_count": 27,
   "metadata": {
    "editable": true
   },
   "outputs": [
    {
     "name": "stdout",
     "output_type": "stream",
     "text": [
      "182 3 Lonnie Gordon Catch You Baby (Steve Pitron & Max Sanna Radio Edit) Sylvie Cruz\n",
      "182 2 Sebastien Tellier Kilometer Sylvie Cruz\n",
      "182 1 Three Drives Greece 2000 Sylvie Cruz\n",
      "182 0 Down To The Bone Keep On Keepin' On Sylvie Cruz\n"
     ]
    }
   ],
   "source": [
    "## Query 2: Give me only the following: name of artist, song (sorted by itemInSession) and user (first and last name)\\\n",
    "## for userid = 10, sessionid = 182\n",
    "## Select statement to validate the data was entered into table correctly\n",
    "\n",
    "select_query = \"SELECT session_id, item_in_session, artist_name, song_title,  first_name, last_name  \\\n",
    "                FROM user_music_library \\\n",
    "                WHERE user_id = 10 AND session_id = 182 \\\n",
    "                ORDER BY item_in_session DESC\"\n",
    "\n",
    "try :\n",
    "    rows = session.execute(select_query)\n",
    "except Exception as e:\n",
    "    print(e)\n",
    "    \n",
    "for row in rows:\n",
    "    print(row.session_id, row.item_in_session, row.artist_name, row.song_title, row.first_name, row.last_name)\n"
   ]
  },
  {
   "cell_type": "markdown",
   "metadata": {
    "editable": true
   },
   "source": [
    "For table user_music_history, the user_id was used as a partition key because the queries will be filter by this column. \n",
    "song_title was used as clustering column to help make up a unique key.\n",
    "That is the reason user_id and song_title were selected as a primary key\n",
    "i.e PRIMARY KEY (user_id, song_title)"
   ]
  },
  {
   "cell_type": "code",
   "execution_count": 28,
   "metadata": {
    "editable": true
   },
   "outputs": [
    {
     "name": "stdout",
     "output_type": "stream",
     "text": [
      "29 Jacqueline Lynch The Black Keys\n",
      "80 Tegan Levine The Black Keys\n",
      "95 Sara Johnson The Black Keys\n"
     ]
    }
   ],
   "source": [
    "## Query 3: Give me every user name (first and last) in my music app history who listened to the song 'All Hands Against His Own'\n",
    "## Select statement to validate the data was entered into table correctly\n",
    "\n",
    "select_query = \"SELECT user_id, first_name, last_name, artist_name  \\\n",
    "                FROM user_music_history \\\n",
    "                WHERE song_title = 'All Hands Against His Own'\"\n",
    "\n",
    "try :\n",
    "    rows = session.execute(select_query)\n",
    "except Exception as e:\n",
    "    print(e)\n",
    "    \n",
    "\n",
    "for row in rows:\n",
    "    print (row.user_id, row.first_name, row.last_name, row.artist_name )\n",
    "    "
   ]
  },
  {
   "cell_type": "markdown",
   "metadata": {
    "editable": true
   },
   "source": [
    "### Drop the tables before closing out the sessions"
   ]
  },
  {
   "cell_type": "code",
   "execution_count": 29,
   "metadata": {
    "editable": true
   },
   "outputs": [],
   "source": [
    "## Drop the tables before closing out the sessions\n",
    "\n",
    "drop_query1 = \"DROP TABLE IF EXISTS udacity.music_library\"\n",
    "try :\n",
    "    session.execute(drop_query1)\n",
    "except Exception as e:\n",
    "    print(e)\n",
    "    \n",
    "drop_query2 = \"DROP TABLE IF EXISTS udacity.user_music_library\"\n",
    "try :\n",
    "    session.execute(drop_query2)\n",
    "except Exception as e:\n",
    "    print(e)\n",
    "    \n",
    "drop_query3 = \"DROP TABLE IF EXISTS udacity.user_music_history\"\n",
    "try :\n",
    "    session.execute(drop_query3)\n",
    "except Exception as e:\n",
    "    print(e)"
   ]
  },
  {
   "cell_type": "markdown",
   "metadata": {
    "editable": true
   },
   "source": [
    "### Close the session and cluster connection¶"
   ]
  },
  {
   "cell_type": "code",
   "execution_count": 30,
   "metadata": {
    "editable": true
   },
   "outputs": [],
   "source": [
    "session.shutdown()\n",
    "cluster.shutdown()"
   ]
  },
  {
   "cell_type": "code",
   "execution_count": null,
   "metadata": {
    "editable": true
   },
   "outputs": [],
   "source": []
  },
  {
   "cell_type": "code",
   "execution_count": null,
   "metadata": {
    "editable": true
   },
   "outputs": [],
   "source": []
  }
 ],
 "metadata": {
  "kernelspec": {
   "display_name": "Python 3",
   "language": "python",
   "name": "python3"
  },
  "language_info": {
   "codemirror_mode": {
    "name": "ipython",
    "version": 3
   },
   "file_extension": ".py",
   "mimetype": "text/x-python",
   "name": "python",
   "nbconvert_exporter": "python",
   "pygments_lexer": "ipython3",
   "version": "3.6.3"
  }
 },
 "nbformat": 4,
 "nbformat_minor": 4
}
